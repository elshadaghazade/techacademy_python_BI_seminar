{
 "cells": [
  {
   "cell_type": "code",
   "execution_count": 83,
   "metadata": {},
   "outputs": [],
   "source": [
    "import pandas as pd, matplotlib, matplotlib.pyplot as plt, math\n",
    "\n",
    "def dummy_data_generator(x):\n",
    "    import math, random\n",
    "    return math.sin(x) * 100 + random.uniform(1, 20)\n",
    "\n",
    "xs_ = 0\n",
    "xs = []\n",
    "for _ in range(1000):\n",
    "    xs_ += 0.1\n",
    "    xs.append(xs_)\n",
    "    \n",
    "ys = [dummy_data_generator(i) for i in xs]"
   ]
  },
  {
   "cell_type": "code",
   "execution_count": 84,
   "metadata": {},
   "outputs": [
    {
     "name": "stdout",
     "output_type": "stream",
     "text": [
      "(4.300000000000001, 4.4, -84.760135787929, -84.58587872907357) 1.7425705885543215\n",
      "(10.699999999999978, 10.799999999999978, -82.15861238499032, -82.0151672041026) 1.4344518088772469\n",
      "(30.30000000000016, 30.400000000000162, -79.56487099229889, -79.50986628403673) 0.5500470826215953\n",
      "(36.70000000000025, 36.80000000000025, -69.38465419474025, -69.22463341548169) 1.6002077925855702\n",
      "(96.69999999999878, 96.79999999999878, 69.71317447275699, 69.8215584809366) 1.0838400817961873\n"
     ]
    }
   ],
   "source": [
    "\n",
    "\n",
    "ds1 = pd.Series(ys)\n",
    "ds2 = pd.Series(xs) \n",
    "df = pd.DataFrame({\n",
    "    'y': ds1,\n",
    "    'x': ds2\n",
    "})\n",
    "\n",
    "extremums = []\n",
    "\n",
    "x = df['x']\n",
    "x1 =  df.loc[1:, :]['x'].add(0)\n",
    "y = df['y']\n",
    "y1 = df.loc[1:, :]['y'].add(0)\n",
    "\n",
    "extremums = []\n",
    "\n",
    "cnt = 0\n",
    "for i in zip(x, x1, y, y1):\n",
    "    diff = (i[3] - i[2]) / (i[1] - i[0])\n",
    "    if diff < 2 and diff >= 0:\n",
    "        print(i, diff)\n",
    "        extremums.append((i[0], i[2], diff))\n",
    "        \n",
    "# print(extremums)"
   ]
  },
  {
   "cell_type": "code",
   "execution_count": 89,
   "metadata": {},
   "outputs": [
    {
     "data": {
      "image/png": "[encoded data removed]",
      "text/plain": [
       "<Figure size 432x288 with 1 Axes>"
      ]
     },
     "metadata": {
      "needs_background": "light"
     },
     "output_type": "display_data"
    }
   ],
   "source": [
    "fig, ax = plt.subplots()\n",
    "ax.plot(df.loc[17:25]['x'], df.loc[17:25]['y'])\n",
    "\n",
    "ax.set(xlabel='x', ylabel='y',\n",
    "       title='biz yekiy')\n",
    "ax.grid()\n",
    "\n",
    "# fig.savefig(\"test.png\")\n",
    "plt.show()"
   ]
  },
  {
   "cell_type": "code",
   "execution_count": 86,
   "metadata": {
    "scrolled": true
   },
   "outputs": [
    {
     "data": {
      "text/html": [
       "<div>\n",
       "<style scoped>\n",
       "    .dataframe tbody tr th:only-of-type {\n",
       "        vertical-align: middle;\n",
       "    }\n",
       "\n",
       "    .dataframe tbody tr th {\n",
       "        vertical-align: top;\n",
       "    }\n",
       "\n",
       "    .dataframe thead th {\n",
       "        text-align: right;\n",
       "    }\n",
       "</style>\n",
       "<table border=\"1\" class=\"dataframe\">\n",
       "  <thead>\n",
       "    <tr style=\"text-align: right;\">\n",
       "      <th></th>\n",
       "      <th>y</th>\n",
       "      <th>x</th>\n",
       "    </tr>\n",
       "  </thead>\n",
       "  <tbody>\n",
       "    <tr>\n",
       "      <th>17</th>\n",
       "      <td>113.584240</td>\n",
       "      <td>1.8</td>\n",
       "    </tr>\n",
       "    <tr>\n",
       "      <th>18</th>\n",
       "      <td>108.339142</td>\n",
       "      <td>1.9</td>\n",
       "    </tr>\n",
       "    <tr>\n",
       "      <th>19</th>\n",
       "      <td>109.430396</td>\n",
       "      <td>2.0</td>\n",
       "    </tr>\n",
       "    <tr>\n",
       "      <th>20</th>\n",
       "      <td>93.616108</td>\n",
       "      <td>2.1</td>\n",
       "    </tr>\n",
       "    <tr>\n",
       "      <th>21</th>\n",
       "      <td>84.078036</td>\n",
       "      <td>2.2</td>\n",
       "    </tr>\n",
       "    <tr>\n",
       "      <th>22</th>\n",
       "      <td>86.651249</td>\n",
       "      <td>2.3</td>\n",
       "    </tr>\n",
       "  </tbody>\n",
       "</table>\n",
       "</div>"
      ],
      "text/plain": [
       "             y    x\n",
       "17  113.584240  1.8\n",
       "18  108.339142  1.9\n",
       "19  109.430396  2.0\n",
       "20   93.616108  2.1\n",
       "21   84.078036  2.2\n",
       "22   86.651249  2.3"
      ]
     },
     "execution_count": 86,
     "metadata": {},
     "output_type": "execute_result"
    }
   ],
   "source": [
    "df.loc[17:22]"
   ]
  },
  {
   "cell_type": "code",
   "execution_count": 93,
   "metadata": {},
   "outputs": [
    {
     "name": "stdout",
     "output_type": "stream",
     "text": [
      "2.2000000000000006 84.07803574934161\n",
      "2.3000000000000007 86.65124887499272\n",
      "2.400000000000001 69.64977882967015\n",
      "2.500000000000001 72.57795856294324\n"
     ]
    }
   ],
   "source": [
    "x0 = df['x'][0]\n",
    "x1 = df['x'][10]\n",
    "x2 = df['x'][20]\n",
    "x3 = df['x'][24]\n",
    "\n",
    "y0 = df['y'][21]\n",
    "y1 = df['y'][22]\n",
    "y2 = df['y'][23]\n",
    "y3 = df['y'][24]\n",
    "\n",
    "print(x0, y0)\n",
    "print(x1, y1)\n",
    "print(x2, y2)\n",
    "print(x3, y3)\n",
    "\n",
    "\n",
    "def L(x, x0, x1, x2, x3, y0, y1, y2, y3):\n",
    "    l0 = (x - x1) / (x0 - x1)\n",
    "    l0 *= (x - x2) / (x0 - x2)\n",
    "    l0 *= (x - x3) / (x0 - x3)\n",
    "    \n",
    "    l1 = (x - x0) / (x1 - x0)\n",
    "    l1 *= (x - x2) / (x1 - x2)\n",
    "    l1 *= (x - x3) / (x1 - x3)\n",
    "    \n",
    "    l2 = (x - x0) / (x2 - x0)\n",
    "    l2 *= (x - x1) / (x2 - x1)\n",
    "    l2 *= (x - x3) / (x2 - x3)\n",
    "    \n",
    "    l3 = (x - x0) / (x3 - x0)\n",
    "    l3 *= (x - x1) / (x3 - x1)\n",
    "    l3 *= (x - x2) / (x3 - x2)\n",
    "    \n",
    "    result = l0 * y0 + l1 * y1 + l2 * y2 + l3 * y3\n",
    "    \n",
    "    \n",
    "    return result"
   ]
  },
  {
   "cell_type": "code",
   "execution_count": 107,
   "metadata": {},
   "outputs": [
    {
     "data": {
      "text/plain": [
       "-0.01981"
      ]
     },
     "execution_count": 107,
     "metadata": {},
     "output_type": "execute_result"
    }
   ],
   "source": [
    "ix1 = 2.38\n",
    "ix2 = 2.39\n",
    "\n",
    "y1 = L(ix1, x0, x1, x2, x3, y0, y1, y2, y3)\n",
    "y2 = L(ix2, x0, x1, x2, x3, y0, y1, y2, y3)\n",
    "\n",
    "round((y2 - y1)/(x2-x1), 5)"
   ]
  },
  {
   "cell_type": "code",
   "execution_count": null,
   "metadata": {},
   "outputs": [],
   "source": []
  }
 ],
 "metadata": {
  "kernelspec": {
   "display_name": "Python 3",
   "language": "python",
   "name": "python3"
  },
  "language_info": {
   "codemirror_mode": {
    "name": "ipython",
    "version": 3
   },
   "file_extension": ".py",
   "mimetype": "text/x-python",
   "name": "python",
   "nbconvert_exporter": "python",
   "pygments_lexer": "ipython3",
   "version": "3.6.5"
  }
 },
 "nbformat": 4,
 "nbformat_minor": 2
}
