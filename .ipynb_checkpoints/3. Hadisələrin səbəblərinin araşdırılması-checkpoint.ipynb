{
 "cells": [
  {
   "cell_type": "code",
   "execution_count": 1,
   "metadata": {},
   "outputs": [],
   "source": [
    "import pandas as pd, matplotlib.pyplot as plt"
   ]
  },
  {
   "cell_type": "code",
   "execution_count": null,
   "metadata": {},
   "outputs": [
    {
     "name": "stderr",
     "output_type": "stream",
     "text": [
      "/home/elshad/Documents/BI/.py3/lib/python3.6/site-packages/pandas/io/parsers.py:782: FutureWarning: The 'tupleize_cols' argument has been deprecated and will be removed in a future version. Column tuples will then always be converted to MultiIndex.\n",
      "\n",
      "\n",
      "  self.options, self.engine = self._clean_options(options, engine)\n"
     ]
    }
   ],
   "source": [
    "file1 = \"Stats19-Data1979-2004/Accidents7904.csv\"\n",
    "\n",
    "accidents = pd.read_csv(file1,\n",
    "sep=',',\n",
    "header=0,\n",
    "index_col=False,\n",
    "parse_dates=['Date'],\n",
    "dayfirst=True,\n",
    "tupleize_cols=False,\n",
    "error_bad_lines=True,\n",
    "warn_bad_lines=True,skip_blank_lines=True,\n",
    "nrows=1000000)"
   ]
  }
 ],
 "metadata": {
  "kernelspec": {
   "display_name": "Python 3",
   "language": "python",
   "name": "python3"
  },
  "language_info": {
   "codemirror_mode": {
    "name": "ipython",
    "version": 3
   },
   "file_extension": ".py",
   "mimetype": "text/x-python",
   "name": "python",
   "nbconvert_exporter": "python",
   "pygments_lexer": "ipython3",
   "version": "3.6.5"
  }
 },
 "nbformat": 4,
 "nbformat_minor": 2
}
