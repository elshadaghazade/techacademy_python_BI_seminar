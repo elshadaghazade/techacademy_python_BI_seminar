{
 "cells": [
  {
   "cell_type": "code",
   "execution_count": 1,
   "metadata": {},
   "outputs": [],
   "source": [
    "import pandas as pd, matplotlib.pyplot as plt"
   ]
  },
  {
   "cell_type": "code",
   "execution_count": 22,
   "metadata": {},
   "outputs": [],
   "source": [
    "file1 = \"Stats19-Data1979-2004/Accidents7904.csv\"\n",
    "\n",
    "accidents = pd.read_csv(file1,\n",
    "sep=',',\n",
    "header=0,\n",
    "index_col=False,\n",
    "parse_dates=['Date'],\n",
    "dayfirst=True,\n",
    "tupleize_cols=False,\n",
    "error_bad_lines=True,\n",
    "warn_bad_lines=True,skip_blank_lines=True,\n",
    "nrows=1000000)"
   ]
  },
  {
   "cell_type": "markdown",
   "metadata": {},
   "source": [
    "# 1 milyon sətrin başlanğıc və son tarixləri"
   ]
  },
  {
   "cell_type": "code",
   "execution_count": 128,
   "metadata": {},
   "outputs": [
    {
     "name": "stdout",
     "output_type": "stream",
     "text": [
      "Start date: 01-01-1979\n",
      "End date: 31-12-1982\n"
     ]
    }
   ],
   "source": [
    "max_date = accidents.Date.max()\n",
    "min_date = accidents.Date.min()\n",
    "print(\"Start date:\", min_date.strftime(\"%d-%m-%Y\"))\n",
    "print(\"End date:\", max_date.strftime(\"%d-%m-%Y\"))"
   ]
  },
  {
   "cell_type": "markdown",
   "metadata": {},
   "source": [
    "# Başlanğıc və son tarix aralığında nəs günlərin sayı və siyahısı"
   ]
  },
  {
   "cell_type": "code",
   "execution_count": 134,
   "metadata": {},
   "outputs": [
    {
     "name": "stdout",
     "output_type": "stream",
     "text": [
      "Count of satan days between 1979-01-01 00:00:00 and 1982-12-31 00:00:00 is: 8\n",
      "List of satan days between 1979-01-01 00:00:00 and 1982-12-31 00:00:00 are: ['13-01-1979', '13-10-1979', '13-09-1980', '13-12-1980', '13-06-1981', '13-02-1982', '13-03-1982', '13-11-1982']\n"
     ]
    }
   ],
   "source": [
    "date_range = pd.date_range(start=min_date, end=max_date)\n",
    "dates = []\n",
    "\n",
    "for date in date_range:\n",
    "    if date.day == 13 and date.dayofweek == 5:\n",
    "        dates.append(date.strftime(\"%d-%m-%Y\"))\n",
    "    \n",
    "print(f\"Count of satan days between {date_range.min()} and {date_range.max()} is: {len(dates)}\")\n",
    "print(f\"List of satan days between {date_range.min()} and {date_range.max()} are: {dates}\")"
   ]
  },
  {
   "cell_type": "markdown",
   "metadata": {},
   "source": [
    "# Nəs günlər mifi (ayın 13-ü cümə günləri)\n",
    "\n",
    "Bu inancın doğruluğunu test edək"
   ]
  },
  {
   "cell_type": "code",
   "execution_count": 124,
   "metadata": {},
   "outputs": [
    {
     "data": {
      "text/html": [
       "<div>\n",
       "<style scoped>\n",
       "    .dataframe tbody tr th:only-of-type {\n",
       "        vertical-align: middle;\n",
       "    }\n",
       "\n",
       "    .dataframe tbody tr th {\n",
       "        vertical-align: top;\n",
       "    }\n",
       "\n",
       "    .dataframe thead th {\n",
       "        text-align: right;\n",
       "    }\n",
       "</style>\n",
       "<table border=\"1\" class=\"dataframe\">\n",
       "  <thead>\n",
       "    <tr style=\"text-align: right;\">\n",
       "      <th></th>\n",
       "      <th>is_satan_day</th>\n",
       "      <th>Accident_Index</th>\n",
       "      <th>percentage</th>\n",
       "    </tr>\n",
       "  </thead>\n",
       "  <tbody>\n",
       "    <tr>\n",
       "      <th>1</th>\n",
       "      <td>1</td>\n",
       "      <td>5926</td>\n",
       "      <td>0.5926 %</td>\n",
       "    </tr>\n",
       "    <tr>\n",
       "      <th>0</th>\n",
       "      <td>0</td>\n",
       "      <td>994074</td>\n",
       "      <td>99.4074 %</td>\n",
       "    </tr>\n",
       "  </tbody>\n",
       "</table>\n",
       "</div>"
      ],
      "text/plain": [
       "   is_satan_day  Accident_Index percentage\n",
       "1             1            5926   0.5926 %\n",
       "0             0          994074  99.4074 %"
      ]
     },
     "execution_count": 124,
     "metadata": {},
     "output_type": "execute_result"
    }
   ],
   "source": [
    "# Nəs günlər üçün yeni column əlavə edirik, nəs gün üçün 1, digər günlər üçün 0 olacaq\n",
    "result = accidents.groupby('Date', as_index=False).count().sort_values(['Date'], ascending=False)\n",
    "result['is_satan_day'] = result.Date.apply(lambda date: 1 if date.day == 13 and date.dayofweek == 5 else 0)\n",
    "result = result.groupby('is_satan_day', as_index=False).sum().sort_values('is_satan_day', ascending=False)\n",
    "result = result.loc[:, ['is_satan_day', 'Accident_Index']]\n",
    "\n",
    "result['percentage'] = result['Accident_Index'] * 100 / result.sum()['Accident_Index']\n",
    "result['percentage'] = result['percentage'].astype('str')\n",
    "result['percentage'] = result['percentage'].apply(lambda p: p + ' %')\n",
    "result"
   ]
  }
 ],
 "metadata": {
  "kernelspec": {
   "display_name": "Python 3",
   "language": "python",
   "name": "python3"
  },
  "language_info": {
   "codemirror_mode": {
    "name": "ipython",
    "version": 3
   },
   "file_extension": ".py",
   "mimetype": "text/x-python",
   "name": "python",
   "nbconvert_exporter": "python",
   "pygments_lexer": "ipython3",
   "version": "3.6.5"
  }
 },
 "nbformat": 4,
 "nbformat_minor": 2
}
